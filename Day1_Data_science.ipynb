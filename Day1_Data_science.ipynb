{
 "cells": [
  {
   "cell_type": "code",
   "execution_count": null,
   "id": "b4258e53-73f7-43d1-b814-3a16ebe32983",
   "metadata": {},
   "outputs": [],
   "source": [
    "a = 10"
   ]
  },
  {
   "cell_type": "code",
   "execution_count": 2,
   "id": "8e7b27a4-9ece-4821-a8b3-621266c09082",
   "metadata": {},
   "outputs": [],
   "source": [
    "a = 'c'  "
   ]
  },
  {
   "cell_type": "code",
   "execution_count": 6,
   "id": "d21036a0-01f2-4739-b890-406d4089e8e0",
   "metadata": {},
   "outputs": [
    {
     "data": {
      "text/plain": [
       "str"
      ]
     },
     "execution_count": 6,
     "metadata": {},
     "output_type": "execute_result"
    }
   ],
   "source": [
    "type(a)"
   ]
  },
  {
   "cell_type": "code",
   "execution_count": 5,
   "id": "8a9cfc3e-aadc-456a-93f5-661a1455b78d",
   "metadata": {},
   "outputs": [
    {
     "data": {
      "text/plain": [
       "0"
      ]
     },
     "execution_count": 5,
     "metadata": {},
     "output_type": "execute_result"
    }
   ],
   "source": [
    "int()"
   ]
  },
  {
   "cell_type": "code",
   "execution_count": 7,
   "id": "a0329cfe-722a-4eef-95b7-b81e753f52a0",
   "metadata": {},
   "outputs": [
    {
     "name": "stdout",
     "output_type": "stream",
     "text": [
      "Hello world\n"
     ]
    }
   ],
   "source": [
    "print(\"Hello world\")"
   ]
  },
  {
   "cell_type": "code",
   "execution_count": 8,
   "id": "a853ae4d-ac04-46ea-9a4e-f8d514e74ec5",
   "metadata": {},
   "outputs": [
    {
     "name": "stdout",
     "output_type": "stream",
     "text": [
      "My age is 20\n"
     ]
    }
   ],
   "source": [
    "age = 20\n",
    "print(\"My age is\",age)\n"
   ]
  },
  {
   "cell_type": "markdown",
   "id": "f2be3dda-b46a-49b5-b020-44f23fe02c97",
   "metadata": {},
   "source": [
    "## FORMATING\n"
   ]
  },
  {
   "cell_type": "code",
   "execution_count": 13,
   "id": "a47560c7-0db1-40fb-b3fb-1cc6f6bfd128",
   "metadata": {},
   "outputs": [
    {
     "name": "stdout",
     "output_type": "stream",
     "text": [
      "My age is: {age}\n",
      "My age is: 20\n"
     ]
    }
   ],
   "source": [
    "## fstring\n",
    "print(\"My age is: {age}\")\n",
    "print(f\"My age is: {age}\")"
   ]
  },
  {
   "cell_type": "code",
   "execution_count": 14,
   "id": "f126290f-aa80-4032-9b6b-40eb7160d40d",
   "metadata": {},
   "outputs": [
    {
     "name": "stdout",
     "output_type": "stream",
     "text": [
      "My name is Anuj and my age is 20\n"
     ]
    }
   ],
   "source": [
    "##format()\n",
    "name = \"Anuj\"\n",
    "age = 20\n",
    "print(\"My name is {} and my age is {}\".format(name,age))"
   ]
  },
  {
   "cell_type": "code",
   "execution_count": null,
   "id": "abc9b134-757d-4d28-be87-993d69c11fd7",
   "metadata": {},
   "outputs": [],
   "source": [
    "##place holder()\n",
    "print(\"My name is {Firstname} and my age is {Firstage}\".format(Firstname = name, Firstage = age))"
   ]
  },
  {
   "cell_type": "markdown",
   "id": "6c55d888-4373-402d-8676-af6d98958ce7",
   "metadata": {},
   "source": [
    "## Control Flow\n",
    "### Decision Making statement "
   ]
  },
  {
   "cell_type": "code",
   "execution_count": null,
   "id": "d154376d-9f46-4db0-94b3-01890ca2dfef",
   "metadata": {},
   "outputs": [],
   "source": [
    "age = 18\n",
    "if(age>=18):\n",
    "    print(\"you are eligible to vote\")"
   ]
  },
  {
   "cell_type": "code",
   "execution_count": 22,
   "id": "72c44a83-8f89-45a4-ba02-5d1d1c1dba2a",
   "metadata": {},
   "outputs": [
    {
     "data": {
      "text/plain": [
       "True"
      ]
     },
     "execution_count": 22,
     "metadata": {},
     "output_type": "execute_result"
    }
   ],
   "source": [
    "19<45"
   ]
  },
  {
   "cell_type": "code",
   "execution_count": 23,
   "id": "99a42017-2f66-4298-85c1-a8206e7b199e",
   "metadata": {},
   "outputs": [
    {
     "data": {
      "text/plain": [
       "False"
      ]
     },
     "execution_count": 23,
     "metadata": {},
     "output_type": "execute_result"
    }
   ],
   "source": [
    "18<18"
   ]
  },
  {
   "cell_type": "code",
   "execution_count": 24,
   "id": "ba7b3cb1-c568-4daf-bada-05ad7854e137",
   "metadata": {},
   "outputs": [
    {
     "data": {
      "text/plain": [
       "True"
      ]
     },
     "execution_count": 24,
     "metadata": {},
     "output_type": "execute_result"
    }
   ],
   "source": [
    "18<=18"
   ]
  },
  {
   "cell_type": "code",
   "execution_count": 25,
   "id": "c4aa205f-455e-48ad-bd67-734b748403a8",
   "metadata": {},
   "outputs": [
    {
     "name": "stdin",
     "output_type": "stream",
     "text": [
      " HI\n"
     ]
    },
    {
     "data": {
      "text/plain": [
       "'HI'"
      ]
     },
     "execution_count": 25,
     "metadata": {},
     "output_type": "execute_result"
    }
   ],
   "source": [
    "input()"
   ]
  },
  {
   "cell_type": "code",
   "execution_count": 30,
   "id": "ef88f40c-48e2-4447-928d-d89ffac34c07",
   "metadata": {},
   "outputs": [
    {
     "name": "stdin",
     "output_type": "stream",
     "text": [
      "Enter the name 23\n"
     ]
    }
   ],
   "source": [
    "name = input(\"Enter the name\")"
   ]
  },
  {
   "cell_type": "code",
   "execution_count": 31,
   "id": "163fb4a5-fb86-47a9-b5af-017cfc37b62d",
   "metadata": {},
   "outputs": [
    {
     "data": {
      "text/plain": [
       "str"
      ]
     },
     "execution_count": 31,
     "metadata": {},
     "output_type": "execute_result"
    }
   ],
   "source": [
    "type(name)"
   ]
  },
  {
   "cell_type": "code",
   "execution_count": 34,
   "id": "86da2e57-8b70-4ae9-ba31-a688c30b7531",
   "metadata": {},
   "outputs": [
    {
     "name": "stdin",
     "output_type": "stream",
     "text": [
      "Enter the age 32\n"
     ]
    }
   ],
   "source": [
    "age = int(input(\"Enter the age\"))"
   ]
  },
  {
   "cell_type": "code",
   "execution_count": 35,
   "id": "4ad17393-6982-4b65-94ef-aff11e6b2cc1",
   "metadata": {},
   "outputs": [
    {
     "data": {
      "text/plain": [
       "int"
      ]
     },
     "execution_count": 35,
     "metadata": {},
     "output_type": "execute_result"
    }
   ],
   "source": [
    "type(age)"
   ]
  },
  {
   "cell_type": "code",
   "execution_count": 3,
   "id": "2be7c81b-0862-4622-8f5f-8703ceedc712",
   "metadata": {},
   "outputs": [
    {
     "name": "stdin",
     "output_type": "stream",
     "text": [
      "Enter the age 17\n"
     ]
    },
    {
     "name": "stdout",
     "output_type": "stream",
     "text": [
      "Your can't vote\n"
     ]
    }
   ],
   "source": [
    "age = int(input(\"Enter the age\"))\n",
    "if (age>=18 and age<=40):\n",
    "    print(\"Your are eligible to vote\")\n",
    "else:\n",
    "    print(\"Your can't vote\")"
   ]
  },
  {
   "cell_type": "code",
   "execution_count": 5,
   "id": "b848ac4f-103e-4d79-a0b4-cb1385b2685c",
   "metadata": {},
   "outputs": [
    {
     "name": "stdin",
     "output_type": "stream",
     "text": [
      "Enter the price of the product 100\n"
     ]
    },
    {
     "name": "stdout",
     "output_type": "stream",
     "text": [
      "yayyyy you got 30% off\n",
      "Your product cost is %d 70.0\n"
     ]
    }
   ],
   "source": [
    "p = int(input(\"Enter the price of the product\"))\n",
    "if p>1000:\n",
    "    a= p-(20/100)*p \n",
    "    print(\"Hooray you got 20% off\")\n",
    "    print(\"Your product cost is %d\",a)\n",
    "elif p<=1000:\n",
    "    b= p-(30/100)*p\n",
    "    print(\"yayyyy you got 30% off\")\n",
    "    print(\"Your product cost is %d\",b)\n",
    "\n",
    "    "
   ]
  },
  {
   "cell_type": "code",
   "execution_count": 11,
   "id": "39938349-98dc-4b63-9040-c9a7024fc58a",
   "metadata": {},
   "outputs": [
    {
     "name": "stdin",
     "output_type": "stream",
     "text": [
      "Enter the price 3500\n"
     ]
    },
    {
     "name": "stdout",
     "output_type": "stream",
     "text": [
      "THe price of the product is : 2800.0\n"
     ]
    }
   ],
   "source": [
    "p = int(input(\"Enter the price\"))\n",
    "if p>3000:\n",
    "    print(\"THe price of the product is : {}\".format(p*0.8))\n",
    "elif p>=2000 and p<=3000:\n",
    "    print(\"The print of the product is : {}\".format(p*0.7))\n",
    "elif p<=1000 and p<=2000:\n",
    "    print(\"The price is : {}\".format(p*0.6))"
   ]
  },
  {
   "cell_type": "code",
   "execution_count": null,
   "id": "1dc16efd-88b1-4137-affa-170f39b4ff05",
   "metadata": {},
   "outputs": [],
   "source": []
  }
 ],
 "metadata": {
  "kernelspec": {
   "display_name": "Python 3 (ipykernel)",
   "language": "python",
   "name": "python3"
  },
  "language_info": {
   "codemirror_mode": {
    "name": "ipython",
    "version": 3
   },
   "file_extension": ".py",
   "mimetype": "text/x-python",
   "name": "python",
   "nbconvert_exporter": "python",
   "pygments_lexer": "ipython3",
   "version": "3.10.8"
  }
 },
 "nbformat": 4,
 "nbformat_minor": 5
}
