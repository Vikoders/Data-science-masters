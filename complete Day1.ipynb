{
  "cells": [
    {
      "cell_type": "code",
      "execution_count": null,
      "id": "9e971a90-0a45-4a8d-ac69-f77197f59b40",
      "metadata": {
        "id": "9e971a90-0a45-4a8d-ac69-f77197f59b40"
      },
      "outputs": [],
      "source": [
        "a=10"
      ]
    },
    {
      "cell_type": "code",
      "execution_count": null,
      "id": "12fbbff6-9dc3-44c6-87d4-e66e5ea471a8",
      "metadata": {
        "id": "12fbbff6-9dc3-44c6-87d4-e66e5ea471a8"
      },
      "outputs": [],
      "source": [
        "a='c'"
      ]
    },
    {
      "cell_type": "code",
      "execution_count": null,
      "id": "b693dab3-a1d1-4954-987b-68de07500477",
      "metadata": {
        "id": "b693dab3-a1d1-4954-987b-68de07500477",
        "outputId": "1834a0da-3c8b-4fd8-a5ce-13c71eb8a3b6"
      },
      "outputs": [
        {
          "data": {
            "text/plain": [
              "str"
            ]
          },
          "execution_count": 4,
          "metadata": {},
          "output_type": "execute_result"
        }
      ],
      "source": [
        "type(a)"
      ]
    },
    {
      "cell_type": "code",
      "execution_count": null,
      "id": "da9214bb-c0a9-46d7-9a95-4152a388c331",
      "metadata": {
        "id": "da9214bb-c0a9-46d7-9a95-4152a388c331",
        "outputId": "3693639c-b2d4-459a-ef40-b81dd2cf66c9"
      },
      "outputs": [
        {
          "data": {
            "text/plain": [
              "123"
            ]
          },
          "execution_count": 7,
          "metadata": {},
          "output_type": "execute_result"
        }
      ],
      "source": [
        "int('123')"
      ]
    },
    {
      "cell_type": "code",
      "execution_count": null,
      "id": "2534e91d-5b19-4a17-84a3-26a72d73081c",
      "metadata": {
        "id": "2534e91d-5b19-4a17-84a3-26a72d73081c",
        "outputId": "e81f2faf-8332-4d34-e63a-89411b064a40"
      },
      "outputs": [
        {
          "ename": "ValueError",
          "evalue": "invalid literal for int() with base 10: 'abcd'",
          "output_type": "error",
          "traceback": [
            "\u001b[0;31m---------------------------------------------------------------------------\u001b[0m",
            "\u001b[0;31mValueError\u001b[0m                                Traceback (most recent call last)",
            "Cell \u001b[0;32mIn[8], line 1\u001b[0m\n\u001b[0;32m----> 1\u001b[0m \u001b[38;5;28;43mint\u001b[39;49m\u001b[43m(\u001b[49m\u001b[38;5;124;43m'\u001b[39;49m\u001b[38;5;124;43mabcd\u001b[39;49m\u001b[38;5;124;43m'\u001b[39;49m\u001b[43m)\u001b[49m\n",
            "\u001b[0;31mValueError\u001b[0m: invalid literal for int() with base 10: 'abcd'"
          ]
        }
      ],
      "source": [
        "int('abcd')"
      ]
    },
    {
      "cell_type": "code",
      "execution_count": null,
      "id": "84dc4185-d700-4766-8dca-b44b8e26845f",
      "metadata": {
        "id": "84dc4185-d700-4766-8dca-b44b8e26845f",
        "outputId": "352d608f-d960-4b3b-eef3-856d02655115"
      },
      "outputs": [
        {
          "name": "stdout",
          "output_type": "stream",
          "text": [
            "Hello World\n"
          ]
        }
      ],
      "source": [
        "print(\"Hello World\")"
      ]
    },
    {
      "cell_type": "code",
      "execution_count": null,
      "id": "fadf09ba-5413-4c72-83db-8a3c2de35b22",
      "metadata": {
        "id": "fadf09ba-5413-4c72-83db-8a3c2de35b22",
        "outputId": "fd364d25-9f89-47ac-bd60-370d69c22c7b"
      },
      "outputs": [
        {
          "name": "stdout",
          "output_type": "stream",
          "text": [
            "123\n"
          ]
        }
      ],
      "source": [
        "print(123)"
      ]
    },
    {
      "cell_type": "code",
      "execution_count": null,
      "id": "70e0568d-9824-4da0-a01a-87f9e138368a",
      "metadata": {
        "id": "70e0568d-9824-4da0-a01a-87f9e138368a",
        "outputId": "8f5c2937-a5b7-4a18-b7f0-a50dd962eca7"
      },
      "outputs": [
        {
          "name": "stdout",
          "output_type": "stream",
          "text": [
            "Hello World\n"
          ]
        }
      ],
      "source": [
        "print('Hello World')"
      ]
    },
    {
      "cell_type": "code",
      "execution_count": null,
      "id": "83bd21cc-31b4-4b4d-a73c-dcd7af68f217",
      "metadata": {
        "id": "83bd21cc-31b4-4b4d-a73c-dcd7af68f217",
        "outputId": "49bb9c09-205a-4fb3-fdc4-15e710f0bfb6"
      },
      "outputs": [
        {
          "name": "stdout",
          "output_type": "stream",
          "text": [
            "My age is: 32\n"
          ]
        }
      ],
      "source": [
        "age=32\n",
        "print(\"My age is:\",age)"
      ]
    },
    {
      "cell_type": "code",
      "execution_count": null,
      "id": "e250b48e-4c39-488a-aec0-ea4ff54ba69b",
      "metadata": {
        "id": "e250b48e-4c39-488a-aec0-ea4ff54ba69b",
        "outputId": "7512d656-c1bf-4d60-cc4f-bb7eced9d5ab"
      },
      "outputs": [
        {
          "name": "stdout",
          "output_type": "stream",
          "text": [
            "My age is: 32\n"
          ]
        }
      ],
      "source": [
        "##  f string\n",
        "print(f\"My age is: {age}\")"
      ]
    },
    {
      "cell_type": "code",
      "execution_count": null,
      "id": "6ff6137c-f76c-40fb-ac7a-9e0759df6c71",
      "metadata": {
        "id": "6ff6137c-f76c-40fb-ac7a-9e0759df6c71",
        "outputId": "e7d83382-8197-46f5-c4d8-e36eb9f9ebd4"
      },
      "outputs": [
        {
          "name": "stdout",
          "output_type": "stream",
          "text": [
            "My name is Krish and age is 32\n"
          ]
        }
      ],
      "source": [
        "## format()\n",
        "name=\"Krish\"\n",
        "age=32\n",
        "print(\"My name is {} and age is {}\".format(name,age))"
      ]
    },
    {
      "cell_type": "code",
      "execution_count": null,
      "id": "bd510f5a-3e80-413d-866b-bdc8d24987c8",
      "metadata": {
        "id": "bd510f5a-3e80-413d-866b-bdc8d24987c8",
        "outputId": "40f20fee-c067-4457-a03c-1d2031007162"
      },
      "outputs": [
        {
          "name": "stdout",
          "output_type": "stream",
          "text": [
            "My name is 32 and age is Krish\n"
          ]
        }
      ],
      "source": [
        "print(\"My name is {} and age is {}\".format(age,name))"
      ]
    },
    {
      "cell_type": "code",
      "execution_count": null,
      "id": "a4b07305-78e5-4c64-901f-2ed2f29be593",
      "metadata": {
        "id": "a4b07305-78e5-4c64-901f-2ed2f29be593",
        "outputId": "407802dd-291a-47e3-eb69-6edcf6599ad6"
      },
      "outputs": [
        {
          "name": "stdout",
          "output_type": "stream",
          "text": [
            "My name is Krish and age is 32\n"
          ]
        }
      ],
      "source": [
        "##placeholder\n",
        "print(\"My name is {firstname} and age is {firstage}\".format(firstage=age,firstname=name))"
      ]
    },
    {
      "cell_type": "code",
      "execution_count": null,
      "id": "9eb9c60d-dcfc-4d3a-919c-c6e5b83298a1",
      "metadata": {
        "id": "9eb9c60d-dcfc-4d3a-919c-c6e5b83298a1"
      },
      "outputs": [],
      "source": [
        "name=\"Krish Naik\"\n",
        "age=32\n",
        "degree=\"BE\"\n",
        "\n",
        "\" My age is 32 and i have completed: my degree of BE with the name of Krish Naik\""
      ]
    },
    {
      "cell_type": "code",
      "execution_count": null,
      "id": "56690822-9b0b-43b0-9956-2347334c7fdd",
      "metadata": {
        "id": "56690822-9b0b-43b0-9956-2347334c7fdd"
      },
      "outputs": [],
      "source": [
        "print(\"My age is {} and i have completed: my degree {} with the name of {}\".format(age,degree,name))\n"
      ]
    },
    {
      "cell_type": "code",
      "execution_count": null,
      "id": "e140e3e8-bfe5-4514-9ece-7649f5aac0ff",
      "metadata": {
        "id": "e140e3e8-bfe5-4514-9ece-7649f5aac0ff"
      },
      "outputs": [],
      "source": [
        "print(f\"My age is {age} and I have completed: my degree of {degree} with the name of {name}\")\n"
      ]
    },
    {
      "cell_type": "markdown",
      "id": "51339415-4160-4246-af5b-55fe111b0551",
      "metadata": {
        "id": "51339415-4160-4246-af5b-55fe111b0551"
      },
      "source": [
        "## Control Flow\n",
        "### Decision Making statements\n",
        "   * It is kind of making decision during occurred situation of program execution and action can be taken according to specified conditions.\n",
        "   * Structure of decision making evaluate several expressions that provide True or False as a result.\n",
        "   * It is up to you to decide which type of action want to take and execute the statements based upon True and False.\n",
        "   \n",
        "**These are several topics of decision making which going to be discussed below:**\n",
        "   1. **if**\n",
        "   2. **if else**\n",
        "   3. **if elif else**\n",
        "   4. **Nested if**\n",
        "   5. **Single Statement Suites**"
      ]
    },
    {
      "cell_type": "code",
      "execution_count": null,
      "id": "21fa06d5-2659-49e9-8c6c-0e1a76cc573f",
      "metadata": {
        "id": "21fa06d5-2659-49e9-8c6c-0e1a76cc573f",
        "outputId": "920ef97c-2450-4f7d-b221-ef87c4c6c4ef"
      },
      "outputs": [
        {
          "name": "stdout",
          "output_type": "stream",
          "text": [
            "You are eligible to vote\n"
          ]
        }
      ],
      "source": [
        "## If Statements\n",
        "age=18\n",
        "if age>=18:\n",
        "    print(\"You are eligible to vote\")\n"
      ]
    },
    {
      "cell_type": "code",
      "execution_count": null,
      "id": "8dcd857e-ce45-4935-b80f-45b1ee62803b",
      "metadata": {
        "id": "8dcd857e-ce45-4935-b80f-45b1ee62803b",
        "outputId": "bc462314-94cd-4739-ae9b-00347cfc9a36"
      },
      "outputs": [
        {
          "name": "stdout",
          "output_type": "stream",
          "text": [
            "You are not eligible to vote\n"
          ]
        }
      ],
      "source": [
        "## If Statements\n",
        "age=17\n",
        "if age<18:\n",
        "    print(\"You are not eligible to vote\")"
      ]
    },
    {
      "cell_type": "code",
      "execution_count": null,
      "id": "c67056d6-a61b-46ec-960c-32e1a8120fbd",
      "metadata": {
        "id": "c67056d6-a61b-46ec-960c-32e1a8120fbd",
        "outputId": "e1198853-83ad-48d8-9972-a7324841ddb0"
      },
      "outputs": [
        {
          "data": {
            "text/plain": [
              "True"
            ]
          },
          "execution_count": 33,
          "metadata": {},
          "output_type": "execute_result"
        }
      ],
      "source": [
        "18<=18"
      ]
    },
    {
      "cell_type": "code",
      "execution_count": null,
      "id": "5e75d089-42f3-4a33-bc87-164ef45746f0",
      "metadata": {
        "id": "5e75d089-42f3-4a33-bc87-164ef45746f0",
        "outputId": "992839b1-af65-4ffa-c8f5-f02dc838847d"
      },
      "outputs": [
        {
          "name": "stdin",
          "output_type": "stream",
          "text": [
            "Enter the name krish naik\n"
          ]
        }
      ],
      "source": [
        "name=input(\"Enter the name\")"
      ]
    },
    {
      "cell_type": "code",
      "execution_count": null,
      "id": "3cc379bf-785a-4a16-9c53-1bfb722b2ca1",
      "metadata": {
        "id": "3cc379bf-785a-4a16-9c53-1bfb722b2ca1",
        "outputId": "e21629dc-489d-477c-d7c5-9c73264d2100"
      },
      "outputs": [
        {
          "data": {
            "text/plain": [
              "'krish naik'"
            ]
          },
          "execution_count": 42,
          "metadata": {},
          "output_type": "execute_result"
        }
      ],
      "source": [
        "name"
      ]
    },
    {
      "cell_type": "code",
      "execution_count": null,
      "id": "50bd3a20-8e98-4e26-afa0-e995189bdb7d",
      "metadata": {
        "id": "50bd3a20-8e98-4e26-afa0-e995189bdb7d",
        "outputId": "f82393d0-f1be-4b20-cd61-317300bf15e7"
      },
      "outputs": [
        {
          "name": "stdin",
          "output_type": "stream",
          "text": [
            "Enter your age 32\n"
          ]
        }
      ],
      "source": [
        "age=int(input(\"Enter your age\"))"
      ]
    },
    {
      "cell_type": "code",
      "execution_count": null,
      "id": "e29d6b6c-dc90-4193-a6ab-23440487e092",
      "metadata": {
        "id": "e29d6b6c-dc90-4193-a6ab-23440487e092",
        "outputId": "93646bc0-4c67-4f76-cf65-cbddd295bf7f"
      },
      "outputs": [
        {
          "data": {
            "text/plain": [
              "int"
            ]
          },
          "execution_count": 40,
          "metadata": {},
          "output_type": "execute_result"
        }
      ],
      "source": [
        "type(age)"
      ]
    },
    {
      "cell_type": "code",
      "execution_count": null,
      "id": "c9f25139-0ed4-4f6a-b65b-42574870029a",
      "metadata": {
        "id": "c9f25139-0ed4-4f6a-b65b-42574870029a"
      },
      "outputs": [],
      "source": [
        "##Task\n",
        "## Take a input of age\n",
        "## check whether age >=18 and age<=45\n",
        "## display a message you are young blood"
      ]
    },
    {
      "cell_type": "code",
      "execution_count": null,
      "id": "e3e2bf14-d052-4440-a1a6-ca220498c7f2",
      "metadata": {
        "id": "e3e2bf14-d052-4440-a1a6-ca220498c7f2",
        "outputId": "2550a2df-42f8-4c25-c892-4ffb6000e3d8"
      },
      "outputs": [
        {
          "data": {
            "text/plain": [
              "False"
            ]
          },
          "execution_count": 43,
          "metadata": {},
          "output_type": "execute_result"
        }
      ],
      "source": [
        "True and False"
      ]
    },
    {
      "cell_type": "code",
      "execution_count": null,
      "id": "6dbd8004-ba80-4771-b47f-cef36461615b",
      "metadata": {
        "id": "6dbd8004-ba80-4771-b47f-cef36461615b",
        "outputId": "98ead9f2-21e7-44dd-d95f-92bec26f3d79"
      },
      "outputs": [
        {
          "name": "stdin",
          "output_type": "stream",
          "text": [
            "Enter the age 22\n"
          ]
        },
        {
          "name": "stdout",
          "output_type": "stream",
          "text": [
            "You are young blood\n"
          ]
        }
      ],
      "source": [
        "age=int(input(\"Enter the age\"))\n",
        "if  age>=18 and age <=45:\n",
        "    print(\"You are young blood\")"
      ]
    },
    {
      "cell_type": "code",
      "execution_count": null,
      "id": "ce0d69b2-f519-4010-800e-8c14fbebb4d0",
      "metadata": {
        "id": "ce0d69b2-f519-4010-800e-8c14fbebb4d0",
        "outputId": "03774184-81e7-43e7-c4e7-cdd33dfdc42c"
      },
      "outputs": [
        {
          "data": {
            "text/plain": [
              "True"
            ]
          },
          "execution_count": 47,
          "metadata": {},
          "output_type": "execute_result"
        }
      ],
      "source": [
        "22>=18 and 22<=45"
      ]
    },
    {
      "cell_type": "code",
      "execution_count": null,
      "id": "65bb2146-3b16-4d0c-8314-73c2a5d3552d",
      "metadata": {
        "id": "65bb2146-3b16-4d0c-8314-73c2a5d3552d",
        "outputId": "e70cafc1-e4f3-47db-e19c-164e5f28e957"
      },
      "outputs": [
        {
          "data": {
            "text/plain": [
              "True"
            ]
          },
          "execution_count": 46,
          "metadata": {},
          "output_type": "execute_result"
        }
      ],
      "source": [
        "22<=42"
      ]
    },
    {
      "cell_type": "code",
      "execution_count": null,
      "id": "283f842c-24ed-4ded-ab4c-b0108d93df83",
      "metadata": {
        "id": "283f842c-24ed-4ded-ab4c-b0108d93df83",
        "outputId": "207ed0eb-99fc-494a-98c8-29db884e6f82"
      },
      "outputs": [
        {
          "name": "stdin",
          "output_type": "stream",
          "text": [
            "Enter the age 55\n"
          ]
        }
      ],
      "source": [
        "age=int(input(\"Enter the age\"))\n",
        "if  age>=18 and age <=45:\n",
        "    print(\"You are young blood\")"
      ]
    },
    {
      "cell_type": "code",
      "execution_count": null,
      "id": "eb3a4bfb-54cb-400e-88ee-c5deca913146",
      "metadata": {
        "id": "eb3a4bfb-54cb-400e-88ee-c5deca913146",
        "outputId": "10b69056-fd3a-4a1a-8c83-39c3f245653d"
      },
      "outputs": [
        {
          "name": "stdin",
          "output_type": "stream",
          "text": [
            "Enter the age 56\n"
          ]
        },
        {
          "name": "stdout",
          "output_type": "stream",
          "text": [
            "Thank you your we will let you know\n"
          ]
        }
      ],
      "source": [
        "## if else satetements\n",
        "age=int(input(\"Enter the age\"))\n",
        "if  age>=18 and age <=45:\n",
        "    print(\"You are young blood\")\n",
        "else:\n",
        "    print(\"Thank you your we will let you know\")"
      ]
    },
    {
      "cell_type": "code",
      "execution_count": null,
      "id": "de1c96e8-f315-4fab-a051-03e0a50384a0",
      "metadata": {
        "id": "de1c96e8-f315-4fab-a051-03e0a50384a0"
      },
      "outputs": [],
      "source": [
        "## mall - input the product price\n",
        "## product >1000 rs 20% off\n",
        "## print the product price after removing the discount\n",
        "## product <=1000 rs 30% off\n",
        "## print the product price after removing the discount\n"
      ]
    },
    {
      "cell_type": "code",
      "execution_count": null,
      "id": "cae3f380-2f96-4d67-9f4b-0871f59fc917",
      "metadata": {
        "id": "cae3f380-2f96-4d67-9f4b-0871f59fc917",
        "outputId": "fc85c71c-6bc2-4c99-c466-84b50881e9d7"
      },
      "outputs": [
        {
          "name": "stdin",
          "output_type": "stream",
          "text": [
            "Enter the price 10\n"
          ]
        },
        {
          "name": "stdout",
          "output_type": "stream",
          "text": [
            "The price of the product is 7.0\n"
          ]
        }
      ],
      "source": [
        "product_price=int(input(\"Enter the price\"))\n",
        "if product_price>1000:\n",
        "    print(\"The price of the product is {}\".format(product_price*0.8))\n",
        "else:\n",
        "    print(\"The price of the product is {}\".format(product_price*0.7))"
      ]
    },
    {
      "cell_type": "code",
      "execution_count": null,
      "id": "d2959de0-ce8b-491f-8e5a-d269f4a86e64",
      "metadata": {
        "id": "d2959de0-ce8b-491f-8e5a-d269f4a86e64",
        "outputId": "67007470-63d1-407b-a399-ec89fc5fa2a6"
      },
      "outputs": [
        {
          "data": {
            "text/plain": [
              "1000"
            ]
          },
          "execution_count": 59,
          "metadata": {},
          "output_type": "execute_result"
        }
      ],
      "source": [
        "int((20/100)*5000)"
      ]
    },
    {
      "cell_type": "code",
      "execution_count": null,
      "id": "f28759c4-7d53-4277-8382-5f84405640cf",
      "metadata": {
        "id": "f28759c4-7d53-4277-8382-5f84405640cf",
        "outputId": "adc5e478-3d5d-4624-835a-c5c2e28afe10"
      },
      "outputs": [
        {
          "name": "stdin",
          "output_type": "stream",
          "text": [
            "Enter the price 2000\n"
          ]
        },
        {
          "name": "stdout",
          "output_type": "stream",
          "text": [
            "The price of the product is 1600.0\n"
          ]
        }
      ],
      "source": [
        "product_price=int(input(\"Enter the price\"))\n",
        "if product_price>1000:\n",
        "    print(f\"The price of the product is {product_price*0.8}\")\n",
        "else:\n",
        "    print(\"The price of the product is {}\".format(product_price*0.7))"
      ]
    },
    {
      "cell_type": "code",
      "execution_count": null,
      "id": "566ad314-b292-47df-bac7-e5b8b4b9f2b3",
      "metadata": {
        "id": "566ad314-b292-47df-bac7-e5b8b4b9f2b3"
      },
      "outputs": [],
      "source": [
        "## mall - input the product price\n",
        "## product >3000 rs 20% off\n",
        "## price is ==4000 you get a trip to Goa\n",
        "## print the product price after removing the discount\n",
        "## product >=2000 rs and <=3000 30% off\n",
        "## print the product price after removing the discount\n",
        "## price ==2999  u will get adiitional gift\n",
        "## product 100 rs and <=2000 40% off\n",
        "## print the product price after removing the discount"
      ]
    },
    {
      "cell_type": "code",
      "execution_count": null,
      "id": "f5a76f5b-2a4a-4e21-ad95-c981b2ce03d1",
      "metadata": {
        "id": "f5a76f5b-2a4a-4e21-ad95-c981b2ce03d1",
        "outputId": "8035b645-7add-486e-bb65-ac09ecad2d14"
      },
      "outputs": [
        {
          "name": "stdin",
          "output_type": "stream",
          "text": [
            "Enter the price 2000\n"
          ]
        },
        {
          "name": "stdout",
          "output_type": "stream",
          "text": [
            "The price of the product is 1400.0\n"
          ]
        }
      ],
      "source": [
        "product_price=int(input(\"Enter the price\"))\n",
        "if product_price>3000:\n",
        "    if product_price==4000:\n",
        "        print(\"Congratulations you get a Goa Trip\")\n",
        "    print(f\"The price of the product is {product_price*0.8}\")\n",
        "elif product_price>=2000 and product_price<=3000:\n",
        "    if product_price==2999:\n",
        "        print(\"Congratulations you get an additional gift\")\n",
        "    print(f\"The price of the product is {product_price*0.7}\")\n",
        "elif product_price>=100 and product_price<2000:\n",
        "    print(f\"The price of the product is {product_price*0.6}\")\n",
        "else:\n",
        "    print(\"Lets drink tea\")\n",
        "    print(\"I will also be there\")\n"
      ]
    },
    {
      "cell_type": "code",
      "execution_count": null,
      "id": "fa450496-a013-4a8a-994e-e93ceb5335e9",
      "metadata": {
        "id": "fa450496-a013-4a8a-994e-e93ceb5335e9",
        "outputId": "796cacdb-cbc6-4c74-b81b-c7455afdf3fe"
      },
      "outputs": [
        {
          "data": {
            "text/plain": [
              "True"
            ]
          },
          "execution_count": 66,
          "metadata": {},
          "output_type": "execute_result"
        }
      ],
      "source": [
        "#comaprission operator\n",
        "True==True"
      ]
    },
    {
      "cell_type": "code",
      "execution_count": null,
      "id": "24d70ba3-174c-4ab1-b524-b6fb4c937a3d",
      "metadata": {
        "id": "24d70ba3-174c-4ab1-b524-b6fb4c937a3d",
        "outputId": "c7e6b4b4-9203-4978-bdae-f1be42327d0d"
      },
      "outputs": [
        {
          "name": "stdin",
          "output_type": "stream",
          "text": [
            "Enter the number 1000\n"
          ]
        },
        {
          "name": "stdout",
          "output_type": "stream",
          "text": [
            "Go Home\n"
          ]
        }
      ],
      "source": [
        "## Single statement Suites\n",
        "val=int(input('Enter the number'))\n",
        "if(val<=999):print(\"Value is less than equal to 999\")\n",
        "else:\n",
        "    print(\"Go Home\")"
      ]
    },
    {
      "cell_type": "markdown",
      "id": "38e18955-1f9e-4b5a-9674-16e5602eaf98",
      "metadata": {
        "id": "38e18955-1f9e-4b5a-9674-16e5602eaf98"
      },
      "source": [
        "## Loops statements\n",
        "1. while loop\n",
        "2. for loop\n",
        "3. nested loops\n",
        "4. Loop control(break,continue,pass)"
      ]
    },
    {
      "cell_type": "code",
      "execution_count": null,
      "id": "5af77a71-ea79-4120-88ba-8fdb5c46382c",
      "metadata": {
        "id": "5af77a71-ea79-4120-88ba-8fdb5c46382c",
        "outputId": "28b29b40-d27f-4157-9f2c-93cf2bf048ea"
      },
      "outputs": [
        {
          "name": "stdout",
          "output_type": "stream",
          "text": [
            "25\n",
            "26\n",
            "27\n",
            "28\n",
            "29\n",
            "30\n",
            "31\n",
            "32\n",
            "33\n",
            "34\n",
            "35\n",
            "36\n",
            "37\n",
            "38\n",
            "39\n",
            "40\n",
            "41\n",
            "42\n",
            "43\n",
            "44\n",
            "45\n",
            "46\n",
            "47\n",
            "48\n",
            "49\n",
            "50\n",
            "51\n",
            "52\n",
            "53\n",
            "54\n",
            "55\n",
            "56\n",
            "57\n",
            "58\n",
            "59\n",
            "60\n",
            "Its time for retirement\n"
          ]
        }
      ],
      "source": [
        "# while loop while-else\n",
        "joining_age=25\n",
        "while joining_age<=60:\n",
        "    print(joining_age)\n",
        "    joining_age=joining_age+1\n",
        "\n",
        "else:\n",
        "    print(\"Its time for retirement\")\n",
        "\n"
      ]
    },
    {
      "cell_type": "code",
      "execution_count": null,
      "id": "3ac6e35d-baec-4eb0-8b90-5ba77de7d4fe",
      "metadata": {
        "id": "3ac6e35d-baec-4eb0-8b90-5ba77de7d4fe",
        "outputId": "88fd4861-c424-45d4-8a77-5be731d923e7"
      },
      "outputs": [
        {
          "name": "stdout",
          "output_type": "stream",
          "text": [
            "1000\n",
            "900\n",
            "800\n",
            "700\n",
            "600\n",
            "500\n",
            "400\n",
            "300\n",
            "200\n",
            "100\n",
            "Put more money bank people\n",
            "Hello All\n"
          ]
        }
      ],
      "source": [
        "### Atm machine with 1000 rs\n",
        "total_amount=1000\n",
        "while total_amount!=0:\n",
        "    print(total_amount)\n",
        "    total_amount=total_amount-100\n",
        "else:\n",
        "    print(\"Put more money bank people\")\n",
        "\n",
        "print(\"Hello All\")\n"
      ]
    },
    {
      "cell_type": "markdown",
      "id": "b2a9ea39-c927-4717-b4c6-bbc12da4f82a",
      "metadata": {
        "id": "b2a9ea39-c927-4717-b4c6-bbc12da4f82a"
      },
      "source": [
        "## For Loop"
      ]
    },
    {
      "cell_type": "code",
      "execution_count": null,
      "id": "be6ed02f-ed0d-4296-905c-26358227e62b",
      "metadata": {
        "id": "be6ed02f-ed0d-4296-905c-26358227e62b"
      },
      "outputs": [],
      "source": [
        "lst=[\"Krish\",1,2,3,4,\"apple\",\"banana\"]"
      ]
    },
    {
      "cell_type": "code",
      "execution_count": null,
      "id": "6937007c-1411-4ad9-9796-7df9fdf62f55",
      "metadata": {
        "id": "6937007c-1411-4ad9-9796-7df9fdf62f55",
        "outputId": "cab238e9-0e2a-4f8e-e53f-745f65de7ab9"
      },
      "outputs": [
        {
          "data": {
            "text/plain": [
              "list"
            ]
          },
          "execution_count": 83,
          "metadata": {},
          "output_type": "execute_result"
        }
      ],
      "source": [
        "type(lst)"
      ]
    },
    {
      "cell_type": "code",
      "execution_count": null,
      "id": "bc0a3c5d-287b-433f-90f7-63301ca68fe5",
      "metadata": {
        "id": "bc0a3c5d-287b-433f-90f7-63301ca68fe5",
        "outputId": "14307f1c-955a-441c-d4e3-fe2e6d0373dd"
      },
      "outputs": [
        {
          "data": {
            "text/plain": [
              "4"
            ]
          },
          "execution_count": 85,
          "metadata": {},
          "output_type": "execute_result"
        }
      ],
      "source": [
        "lst[4]"
      ]
    },
    {
      "cell_type": "code",
      "execution_count": null,
      "id": "81f419f4-2335-415b-b209-e914865bae85",
      "metadata": {
        "id": "81f419f4-2335-415b-b209-e914865bae85",
        "outputId": "c20053fb-b0c1-4d82-c462-31486f5e0b7f"
      },
      "outputs": [
        {
          "data": {
            "text/plain": [
              "['Krish', 1, 2, 3, 4, 'apple', 'banana']"
            ]
          },
          "execution_count": 87,
          "metadata": {},
          "output_type": "execute_result"
        }
      ],
      "source": [
        "lst"
      ]
    },
    {
      "cell_type": "code",
      "execution_count": null,
      "id": "bea79ecb-8f33-4829-9b78-bb116e7cbfb1",
      "metadata": {
        "id": "bea79ecb-8f33-4829-9b78-bb116e7cbfb1",
        "outputId": "88916f2d-394e-4f2d-9448-7239d31d7083"
      },
      "outputs": [
        {
          "name": "stdout",
          "output_type": "stream",
          "text": [
            "Krish\n",
            "1\n",
            "2\n",
            "3\n",
            "4\n",
            "apple\n",
            "banana\n"
          ]
        }
      ],
      "source": [
        "for x in lst:\n",
        "    print(x)"
      ]
    },
    {
      "cell_type": "code",
      "execution_count": null,
      "id": "a676b171-a273-499f-89cd-0ba1e5d9882f",
      "metadata": {
        "id": "a676b171-a273-499f-89cd-0ba1e5d9882f"
      },
      "outputs": [],
      "source": [
        "fruits_list = [\"Mango\",\"Cherry\",\"Apple\",\"Papaya\",\"Banana\"]"
      ]
    },
    {
      "cell_type": "code",
      "execution_count": null,
      "id": "f0d5c558-d765-4ff1-8a65-1229a62445c8",
      "metadata": {
        "id": "f0d5c558-d765-4ff1-8a65-1229a62445c8",
        "outputId": "ef3a8751-5e0f-4cdf-9ee6-aa2dfb12e6de"
      },
      "outputs": [
        {
          "name": "stdout",
          "output_type": "stream",
          "text": [
            "Mango\n",
            "Cherry\n",
            "The fruit is cherry\n",
            "Apple\n",
            "Papaya\n",
            "Banana\n"
          ]
        }
      ],
      "source": [
        "for a in fruits_list:\n",
        "    print(a)\n",
        "    if a==\"Cherry\":\n",
        "        print(\"The fruit is cherry\")\n"
      ]
    },
    {
      "cell_type": "code",
      "execution_count": null,
      "id": "f59824fd-26c1-498e-88e9-61a7918ff087",
      "metadata": {
        "id": "f59824fd-26c1-498e-88e9-61a7918ff087",
        "outputId": "a3b747e5-bbe1-4616-e105-5cdffd68ca6b"
      },
      "outputs": [
        {
          "name": "stdout",
          "output_type": "stream",
          "text": [
            "m\n",
            "a\n",
            "n\n",
            "g\n",
            "o\n"
          ]
        }
      ],
      "source": [
        "fruit='mango'\n",
        "for x in fruit:\n",
        "    print(x)"
      ]
    },
    {
      "cell_type": "code",
      "execution_count": null,
      "id": "ae17b40a-d8b2-4946-b829-665d3b59841a",
      "metadata": {
        "id": "ae17b40a-d8b2-4946-b829-665d3b59841a",
        "outputId": "32b6cb4d-f7fd-4dd4-cec9-87e672a94930"
      },
      "outputs": [
        {
          "name": "stdout",
          "output_type": "stream",
          "text": [
            "m\n",
            "a\n",
            "n\n",
            "g\n",
            "o\n"
          ]
        }
      ],
      "source": [
        "fruit='mango'\n",
        "for x in fruit:\n",
        "    print(x)"
      ]
    },
    {
      "cell_type": "code",
      "execution_count": null,
      "id": "f6b700b0-f87a-421f-b749-c2bff589fd58",
      "metadata": {
        "id": "f6b700b0-f87a-421f-b749-c2bff589fd58",
        "outputId": "a9f45f18-6077-4f17-a969-67f5c5aeccee"
      },
      "outputs": [
        {
          "data": {
            "text/plain": [
              "'n'"
            ]
          },
          "execution_count": 99,
          "metadata": {},
          "output_type": "execute_result"
        }
      ],
      "source": [
        "fruit[2]"
      ]
    },
    {
      "cell_type": "code",
      "execution_count": null,
      "id": "cdb25811-64ae-472c-9edc-df333e9d9141",
      "metadata": {
        "id": "cdb25811-64ae-472c-9edc-df333e9d9141"
      },
      "outputs": [],
      "source": [
        "###  Nested loops\n",
        "n=7\n",
        "\n"
      ]
    },
    {
      "cell_type": "code",
      "execution_count": null,
      "id": "a9a34800-2a3e-45de-b2e6-a56754bf5d02",
      "metadata": {
        "id": "a9a34800-2a3e-45de-b2e6-a56754bf5d02",
        "outputId": "7da99cb1-aa6f-4ae7-87bd-f5ec8f822811"
      },
      "outputs": [
        {
          "name": "stdout",
          "output_type": "stream",
          "text": [
            "1\n",
            "2\n",
            "3\n",
            "4\n",
            "5\n",
            "6\n",
            "7\n",
            "8\n",
            "9\n"
          ]
        }
      ],
      "source": [
        "## range\n",
        "for i in range(1,10):\n",
        "    print(i)"
      ]
    },
    {
      "cell_type": "code",
      "execution_count": null,
      "id": "278a477f-3c86-4d52-813e-33badccc6058",
      "metadata": {
        "id": "278a477f-3c86-4d52-813e-33badccc6058",
        "outputId": "7bfb811b-8171-4507-b06c-04f0c0a75e52"
      },
      "outputs": [
        {
          "name": "stdout",
          "output_type": "stream",
          "text": [
            "0\n",
            "2\n",
            "4\n",
            "6\n"
          ]
        }
      ],
      "source": [
        "for i in range(0,7,2):\n",
        "    print(i)"
      ]
    },
    {
      "cell_type": "code",
      "execution_count": null,
      "id": "cd16d3c6-8d2f-4aeb-8fa2-3f863db793fb",
      "metadata": {
        "id": "cd16d3c6-8d2f-4aeb-8fa2-3f863db793fb",
        "outputId": "6f3cdb25-4463-4a27-9f47-fea1846057d8"
      },
      "outputs": [
        {
          "name": "stdout",
          "output_type": "stream",
          "text": [
            "*\n",
            "**\n",
            "***\n",
            "****\n",
            "*****\n",
            "******\n",
            "*******\n"
          ]
        }
      ],
      "source": [
        "## Nested loops\n",
        "n=7\n",
        "\n",
        "for i in range(0,n):\n",
        "    for j in range(0,i+1):\n",
        "        print(\"*\",end=\"\")\n",
        "    print(\"\\r\")"
      ]
    },
    {
      "cell_type": "code",
      "execution_count": null,
      "id": "3ba5f283-3eb0-407e-a3b1-8a30ec0529e1",
      "metadata": {
        "id": "3ba5f283-3eb0-407e-a3b1-8a30ec0529e1"
      },
      "outputs": [],
      "source": [
        "##Loop controls\n",
        "## Break and continue\n",
        "fruits_list = [\"Mango\",\"Cherry\",\"Apple\",\"Papaya\",\"Banana\"]\n"
      ]
    },
    {
      "cell_type": "code",
      "execution_count": null,
      "id": "8ac9ff67-6736-4a9b-8a32-09439a52f083",
      "metadata": {
        "id": "8ac9ff67-6736-4a9b-8a32-09439a52f083",
        "outputId": "4bd32a58-98e0-4006-bdbc-f4b5b7c89bc2"
      },
      "outputs": [
        {
          "name": "stdout",
          "output_type": "stream",
          "text": [
            "Mango\n",
            "Cherry\n",
            "The fruit is apple\n"
          ]
        }
      ],
      "source": [
        "for i in fruits_list:\n",
        "    if i==\"Apple\":\n",
        "        print(\"The fruit is apple\")\n",
        "        break\n",
        "    print(i)"
      ]
    },
    {
      "cell_type": "code",
      "execution_count": null,
      "id": "c4da2082-960e-497a-80ee-fe65f9882375",
      "metadata": {
        "id": "c4da2082-960e-497a-80ee-fe65f9882375",
        "outputId": "4b5a5d8a-96e4-4b60-aca8-30babb2a63be"
      },
      "outputs": [
        {
          "name": "stdout",
          "output_type": "stream",
          "text": [
            "Mango\n",
            "Cherry\n",
            "The fruit is apple\n",
            "Apple\n",
            "Papaya\n",
            "Banana\n"
          ]
        }
      ],
      "source": [
        "for i in fruits_list:\n",
        "    if i==\"Apple\":\n",
        "        print(\"The fruit is apple\")\n",
        "        pass\n",
        "    print(i)"
      ]
    },
    {
      "cell_type": "code",
      "execution_count": null,
      "id": "d398b369-92ea-49a2-bda0-e0d5cac82d97",
      "metadata": {
        "id": "d398b369-92ea-49a2-bda0-e0d5cac82d97",
        "outputId": "a901b9a8-3549-4ad3-e32b-853377a6a61e"
      },
      "outputs": [
        {
          "name": "stdout",
          "output_type": "stream",
          "text": [
            "Mango\n",
            "Cherry\n",
            "The fruit is apple\n",
            "Papaya\n",
            "Banana\n"
          ]
        }
      ],
      "source": [
        "##continue\n",
        "for i in fruits_list:\n",
        "    if i==\"Apple\":\n",
        "        print(\"The fruit is apple\")\n",
        "        continue\n",
        "    print(i)"
      ]
    },
    {
      "cell_type": "code",
      "execution_count": null,
      "id": "29f73633-daeb-499f-bfd1-bbe62a35417e",
      "metadata": {
        "id": "29f73633-daeb-499f-bfd1-bbe62a35417e"
      },
      "outputs": [],
      "source": []
    }
  ],
  "metadata": {
    "kernelspec": {
      "display_name": "Python 3 (ipykernel)",
      "language": "python",
      "name": "python3"
    },
    "language_info": {
      "codemirror_mode": {
        "name": "ipython",
        "version": 3
      },
      "file_extension": ".py",
      "mimetype": "text/x-python",
      "name": "python",
      "nbconvert_exporter": "python",
      "pygments_lexer": "ipython3",
      "version": "3.10.8"
    },
    "colab": {
      "provenance": []
    }
  },
  "nbformat": 4,
  "nbformat_minor": 5
}